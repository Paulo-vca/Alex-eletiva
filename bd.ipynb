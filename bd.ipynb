{
 "cells": [
  {
   "cell_type": "code",
   "execution_count": null,
   "metadata": {},
   "outputs": [],
   "source": [
    "from flask import Flask, render_template\n",
    "import sqlalchemy as sqla\n",
    "\n",
    "engine = sqla.create_engine('sqlite:///biblioteca.sqlite', echo=True, poolclass=sqla.StaticPool)\n",
    "\n",
    "connection = engine.connect()\n",
    "\n",
    "metadata_db = sqla.MetaData()"
   ]
  },
  {
   "cell_type": "code",
   "execution_count": null,
   "metadata": {},
   "outputs": [],
   "source": [
    "user = sqla.Table(\n",
    "   'user', metadata_db,\n",
    "   sqla.Column('id', sqla.Integer, primary_key = True, autoincrement=True),\n",
    "   sqla.Column('nome', sqla.String),\n",
    "   sqla.Column('password', sqla.String),\n",
    "   sqla.Column('email', sqla.String)\n",
    ")\n",
    "\n",
    "livros = sqla.Table(\n",
    "   'livros', metadata_db,\n",
    "   sqla.Column('id', sqla.Integer, primary_key = True, autoincrement=True),\n",
    "   sqla.Column('titulo', sqla.String),\n",
    "   sqla.Column('autor', sqla.String),\n",
    "   sqla.Column('ano_publicacao', sqla.Integer)\n",
    ")\n",
    "\n",
    "livrosfavoritos = sqla.Table(\n",
    "   'livrosfavoritos', metadata_db,\n",
    "   sqla.Column('id', sqla.Integer, primary_key = True, autoincrement=True),\n",
    "   sqla.Column('user_id', sqla.Integer),\n",
    "   sqla.Column('livro_id', sqla.Integer)\n",
    ")\n",
    "\n",
    "# Criação das tabelas\n",
    "metadata_db.create_all(engine)\n"
   ]
  },
  {
   "cell_type": "code",
   "execution_count": null,
   "metadata": {},
   "outputs": [],
   "source": [
    "\n",
    "@meu_app.route('/cadastrar')\n",
    "def cadastrar():\n",
    "    return render_template('cadastrar.html')\n",
    "\n",
    "@meu_app.route('/login')\n",
    "def login():\n",
    "    return render_template('login.html')\n",
    "\n",
    "@meu_app.route('/')\n",
    "def index():\n",
    "    return render_template('index.html')\n",
    "\n",
    "@meu_app.route('/perfil')\n",
    "def perfil():\n",
    "    return render_template('perfil.html')\n",
    "\n",
    "if __name__ == '__main__':\n",
    "    meu_app.run()\n",
    "\n",
    "\n",
    "# if __name__ == '__main__':\n",
    "#     meu_app.run(debug=True)"
   ]
  }
 ],
 "metadata": {
  "kernelspec": {
   "display_name": "paulinho",
   "language": "python",
   "name": "python3"
  },
  "language_info": {
   "codemirror_mode": {
    "name": "ipython",
    "version": 3
   },
   "file_extension": ".py",
   "mimetype": "text/x-python",
   "name": "python",
   "nbconvert_exporter": "python",
   "pygments_lexer": "ipython3",
   "version": "3.12.0"
  }
 },
 "nbformat": 4,
 "nbformat_minor": 2
}
